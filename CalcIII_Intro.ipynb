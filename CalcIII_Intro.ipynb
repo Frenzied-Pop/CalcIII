{
 "cells": [
  {
   "cell_type": "markdown",
   "metadata": {},
   "source": [
    "# Introduction to Calculus III"
   ]
  },
  {
   "cell_type": "markdown",
   "metadata": {},
   "source": [
    "This notebook introduces some of the fundamental topics you might encounter in a Calculus III course:\n",
    "\n",
    "- Vectors and the 3D coordinate system\n",
    "- Partial derivatives and gradients\n",
    "- Multiple integrals\n",
    "- Divergence and curl"
   ]
  },
  {
   "cell_type": "markdown",
   "metadata": {},
   "source": [
    "## Vectors and the 3D Coordinate System\n\nVectors are quantities that have both magnitude and direction. In Calculus III, we often work in three dimensions with basis vectors **i**, **j**, and **k**. A vector **v** can be written as:\n\n$$\\mathbf{v} = \\langle v_x, v_y, v_z \\rangle.$$"
   ]
  },
  {
   "cell_type": "markdown",
   "metadata": {},
   "source": [
    "## Partial Derivatives and the Gradient\n\nFor a function of several variables, such as $f(x,y,z)$, the partial derivatives measure how the function changes as each variable changes individually. The gradient of $f$ is the vector of its partial derivatives:\n\n$$\\nabla f = \left( \\frac{\\partial f}{\\partial x}, \\frac{\\partial f}{\\partial y}, \\frac{\\partial f}{\\partial z} \right).$$"
   ]
  },
  {
   "cell_type": "code",
   "execution_count": null,
   "metadata": {},
   "outputs": [],
   "source": [
    "import sympy as sp\n",
    "x, y, z = sp.symbols('x y z')\n",
    "f = x**2 + y**2 + z**2\n",
    "grad_f = [sp.diff(f, var) for var in (x, y, z)]\n",
    "grad_f"
   ]
  },
  {
   "cell_type": "markdown",
   "metadata": {},
   "source": [
    "## Multiple Integrals\n\nDouble and triple integrals extend the idea of area under a curve to higher dimensions, allowing us to compute volumes and other quantities. As an example, we can integrate $f(x,y) = x + y$ over the unit square."
   ]
  },
  {
   "cell_type": "code",
   "execution_count": null,
   "metadata": {},
   "outputs": [],
   "source": [
    "f_xy = x + y\n",
    "res = sp.integrate(sp.integrate(f_xy, (x, 0, 1)), (y, 0, 1))\n",
    "res"
   ]
  }
 ],
 "metadata": {
  "kernelspec": {
   "display_name": "Python 3",
   "language": "python",
   "name": "python3"
  },
  "language_info": {
   "name": "python",
   "pygments_lexer": "ipython3"
  }
 },
 "nbformat": 5,
 "nbformat_minor": 10
}
