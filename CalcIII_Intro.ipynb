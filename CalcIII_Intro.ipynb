{
  "cells": [
    {
      "cell_type": "markdown",
      "metadata": {},
      "source": [
        "# Introduction to Calculus III"
      ]
    },
    {
      "cell_type": "markdown",
      "metadata": {},
      "source": [
        "This notebook introduces some of the fundamental topics you might encounter in a Calculus III course:\n",
        "\n",
        "- Vectors and the 3D coordinate system\n",
        "- Partial derivatives and gradients\n",
        "- Multiple integrals (double and triple)\n",
        "- Divergence and curl\n",
        "- Parametric curves and vector functions\n",
        "- Line integrals and Green’s Theorem\n",
        "- Surface integrals and Stokes’ Theorem"
      ]
    },
    {
      "cell_type": "markdown",
      "metadata": {},
      "source": [
        "## Vectors and the 3D Coordinate System\n\n",
        "Vectors are quantities that have both magnitude and direction. In Calculus III, we often work in three dimensions with basis vectors **i**, **j**, and **k**. A vector **v** can be written as:\n\n",
        "$$\\mathbf{v} = \\langle v_x, v_y, v_z \\rangle.$$"
      ]
    },
    {
      "cell_type": "markdown",
      "metadata": {},
      "source": [
        "## Partial Derivatives and the Gradient\n\n",
        "For a function of several variables, such as $f(x,y,z)$, the partial derivatives measure how the function changes as each variable changes individually. The gradient of $f$ is the vector of its partial derivatives:\n\n",
        "$$\\nabla f = \\left( \\frac{\\partial f}{\\partial x}, \\frac{\\partial f}{\\partial y}, \\frac{\\partial f}{\\partial z} \\right).$$"
      ]
    },
    {
      "cell_type": "code",
      "execution_count": null,
      "metadata": {},
      "outputs": [],
      "source": [
        "import sympy as sp\n",
        "x, y, z = sp.symbols('x y z')\n",
        "\n",
        "# Define a scalar function\n",
        "f = x**2 + y**2 + z**2\n",
        "\n",
        "# Compute its gradient\n",
        "grad_f = [sp.diff(f, var) for var in (x, y, z)]\n",
        "grad_f"
      ]
    },
    {
      "cell_type": "markdown",
      "metadata": {},
      "source": [
        "## Multiple Integrals\n\n",
        "Double and triple integrals extend the idea of area under a curve to higher dimensions, allowing us to compute volumes and other quantities. As an example, we can integrate $f(x,y) = x + y$ over the unit square."
      ]
    },
    {
      "cell_type": "code",
      "execution_count": null,
      "metadata": {},
      "outputs": [],
      "source": [
        "# Double integral over the unit square [0,1]x[0,1]\n",
        "f_xy = x + y\n",
        "res_double = sp.integrate(sp.integrate(f_xy, (x, 0, 1)), (y, 0, 1))\n",
        "res_double"
      ]
    },
    {
      "cell_type": "markdown",
      "metadata": {},
      "source": [
        "### Triple Integral Example\n\n",
        "Similarly, we can integrate a function of three variables, e.g.\n",
        "$$g(x,y,z) = x + y + z$$\n",
        "over the unit cube $[0,1]^3$."
      ]
    },
    {
      "cell_type": "code",
      "execution_count": null,
      "metadata": {},
      "outputs": [],
      "source": [
        "# Triple integral over the unit cube [0,1]^3\n",
        "g = x + y + z\n",
        "res_triple = sp.integrate(\n",
        "    sp.integrate(\n",
        "        sp.integrate(g, (x, 0, 1)),\n",
        "    (y, 0, 1))\n",
        "  , (z, 0, 1))\n",
        "res_triple"
      ]
    },
    {
      "cell_type": "markdown",
      "metadata": {},
      "source": [
        "## Divergence and Curl\n\n",
        "For a vector field $\\mathbf{F}(x,y,z) = \\langle P, Q, R\\rangle$,\n",
        "- **Divergence** is:\n\n",
        "  $$\\nabla \\cdot \\mathbf{F} = \\frac{\\partial P}{\\partial x} + \\frac{\\partial Q}{\\partial y} + \\frac{\\partial R}{\\partial z}.$$  \n",
        "- **Curl** is:\n\n",
        "  $$\\nabla \\times \\mathbf{F} = \\left\\langle\n",
        "    \\frac{\\partial R}{\\partial y} - \\frac{\\partial Q}{\\partial z},\n",
        "    \\frac{\\partial P}{\\partial z} - \\frac{\\partial R}{\\partial x},\n",
        "    \\frac{\\partial Q}{\\partial x} - \\frac{\\partial P}{\\partial y}\n",
        "  \\right\\rangle.$$"
      ]
    },
    {
      "cell_type": "code",
      "execution_count": null,
      "metadata": {},
      "outputs": [],
      "source": [
        "# Define a sample vector field\n",
        "P = x*y\n",
        "Q = y*z\n",
        "R = z*x\n",
        "F = sp.Matrix([P, Q, R])\n",
        "\n",
        "# Compute divergence\n",
        "div_F = sp.diff(P, x) + sp.diff(Q, y) + sp.diff(R, z)\n",
        "\n",
        "# Compute curl\n",
        "curl_F = sp.Matrix([\n",
        "    sp.diff(R, y) - sp.diff(Q, z),\n",
        "    sp.diff(P, z) - sp.diff(R, x),\n",
        "    sp.diff(Q, x) - sp.diff(P, y)\n",
        "])\n",
        "\n",
        "div_F, curl_F"
      ]
    },
    {
      "cell_type": "markdown",
      "metadata": {},
      "source": [
        "## Parametric Curves and Vector Functions\n\n",
        "Parametric curves in 2D and 3D are described by a vector function of a single parameter $t$:\n\n",
        "$$\\mathbf{r}(t) = \\langle x(t), y(t), z(t) \\rangle.$$  \n",
        "Derivatives give velocity and acceleration; integrals can compute arc length.\n"
      ]
    },
    {
      "cell_type": "code",
      "execution_count": null,
      "metadata": {},
      "outputs": [],
      "source": [
        "t = sp.symbols('t')\n",
        "# Example: helix r(t) = <cos t, sin t, t>\n",
        "r = sp.Matrix([sp.cos(t), sp.sin(t), t])\n",
        "# Velocity\n",
        "v = r.diff(t)\n",
        "# Arc length from t=0 to pi\n",
        "arc_length = sp.integrate(sp.sqrt((v.dot(v))), (t, 0, sp.pi))\n",
        "v, arc_length"
      ]
    },
    {
      "cell_type": "markdown",
      "metadata": {},
      "source": [
        "## Line Integrals and Green’s Theorem\n\n",
        "A line integral of a scalar field $f(x,y)$ along a curve $C$ parametric in $t$ is \n",
        "$$\\int_C f(x,y)\,ds = \\int_a^b f(x(t),y(t))\\sqrt{(x'(t))^2+(y'(t))^2}\\,dt.$$  \n",
        "For a vector field $\\mathbf{F} = \\langle P,Q\\rangle$, \n",
        "$$\\int_C \\mathbf{F}\\cdot d\\mathbf{r} = \\int_C P\\,dx + Q\\,dy.$$  \n",
        "Green’s Theorem relates a line integral around a simple closed curve to a double integral over the region $D$ it encloses."
      ]
    },
    {
      "cell_type": "code",
      "execution_count": null,
      "metadata": {},
      "outputs": [],
      "source": [
        "# Example: integrate F = <y, x> along line from (0,0) to (1,1)\n",
        "t = sp.symbols('t')\n",
        "x_t = t; y_t = t\n",
        "P, Q = y_t, x_t\n",
        "line_int = sp.integrate(P*sp.diff(x_t, t) + Q*sp.diff(y_t, t), (t, 0, 1))\n",
        "line_int"
      ]
    },
    {
      "cell_type": "markdown",
      "metadata": {},
      "source": [
        "## Surface Integrals and Stokes’ Theorem\n\n",
        "Surface integrals extend double integrals to curved surfaces. For a vector field $\\mathbf{F}$ and surface $S$, \n",
        "$$\\iint_S \\mathbf{F}\\cdot d\\mathbf{S}$$\n",
        "Stokes’ Theorem relates a surface integral of curl $\\mathbf{F}$ over $S$ to a line integral around its boundary $\\partial S$."
      ]
    },
    {
      "cell_type": "markdown",
      "metadata": {},
      "source": [
        "## Additional Resources\n\n",
        "For a comprehensive set of worked examples, proofs, and further reading, see the Lamar University Calculus III Tutorial:\n\n",
        "[Calculus III Tutorial (Lamar University)](https://tutorial.math.lamar.edu/Classes/CalcIII/CalcIII.aspx)"
      ]
    }
  ],
  "metadata": {
    "kernelspec": {
      "display_name": "Python 3",
      "language": "python",
      "name": "python3"
    },
    "language_info": {
      "name": "python",
      "pygments_lexer": "ipython3"
    }
  },
  "nbformat": 4,
  "nbformat_minor": 1
}
