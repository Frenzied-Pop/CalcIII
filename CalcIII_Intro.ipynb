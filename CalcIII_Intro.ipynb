{
 "cells": [
  {
   "cell_type": "markdown",
   "metadata": {},
   "source": [
    "# Introduction to Calculus III"
   ]
  },
  {
   "cell_type": "markdown",
   "metadata": {},
   "source": [
    "This notebook introduces some of the fundamental topics you might encounter in a Calculus III course:\n",
    "\n",
    "- Vectors and the 3D coordinate system\n",
    "- Partial derivatives and gradients\n",
    "- Multiple integrals (double and triple)\n",
    "- Divergence and curl"
   ]
  },
  {
   "cell_type": "markdown",
   "metadata": {},
   "source": [
    "## Vectors and the 3D Coordinate System\n\n",
    "Vectors are quantities that have both magnitude and direction. In Calculus III, we often work in three dimensions with basis vectors **i**, **j**, and **k**. A vector **v** can be written as:\n\n",
    "$$\\mathbf{v} = \\langle v_x, v_y, v_z \\rangle.$$"
   ]
  },
  {
   "cell_type": "markdown",
   "metadata": {},
   "source": [
    "## Partial Derivatives and the Gradient\n\n",
    "For a function of several variables, such as $f(x,y,z)$, the partial derivatives measure how the function changes as each variable changes individually. The gradient of $f$ is the vector of its partial derivatives:\n\n",
    "$$\\nabla f = \\left( \\frac{\\partial f}{\\partial x}, \\frac{\\partial f}{\\partial y}, \\frac{\\partial f}{\\partial z} \\right).$$"
   ]
  },
  {
   "cell_type": "code",
   "execution_count": null,
   "metadata": {},
   "outputs": [],
   "source": [
    "import sympy as sp\n",
    "x, y, z = sp.symbols('x y z')\n",
    "\n",
    "# Define a scalar function\n",
    "f = x**2 + y**2 + z**2\n",
    "\n",
    "# Compute its gradient\n",
    "grad_f = [sp.diff(f, var) for var in (x, y, z)]\n",
    "grad_f"
   ]
  },
  {
   "cell_type": "markdown",
   "metadata": {},
   "source": [
    "## Multiple Integrals\n\n",
    "Double and triple integrals extend the idea of area under a curve to higher dimensions, allowing us to compute volumes and other quantities. As an example, we can integrate $f(x,y) = x + y$ over the unit square."
   ]
  },
  {
   "cell_type": "code",
   "execution_count": null,
   "metadata": {},
   "outputs": [],
   "source": [
    "# Double integral over the unit square [0,1]x[0,1]\n",
    "f_xy = x + y\n",
    "res_double = sp.integrate(sp.integrate(f_xy, (x, 0, 1)), (y, 0, 1))\n",
    "res_double"
   ]
  },
  {
   "cell_type": "markdown",
   "metadata": {},
   "source": [
    "### Triple Integral Example\n\n",
    "Similarly, we can integrate a function of three variables, e.g.\n",
    "$$g(x,y,z) = x + y + z$$\n",
    "over the unit cube $[0,1]^3$."
   ]
  },
  {
   "cell_type": "code",
   "execution_count": null,
   "metadata": {},
   "outputs": [],
   "source": [
    "# Triple integral over the unit cube [0,1]^3\n",
    "g = x + y + z\n",
    "res_triple = sp.integrate(\n",
    "    sp.integrate(\n",
    "        sp.integrate(g, (x, 0, 1)),\n",
    "    (y, 0, 1))\n",
    "  , (z, 0, 1))\n",
    "res_triple"
   ]
  },
  {
   "cell_type": "markdown",
   "metadata": {},
   "source": [
    "## Divergence and Curl\n\n",
    "For a vector field $\\mathbf{F}(x,y,z) = \\langle P, Q, R\\rangle$,\n",
    "- **Divergence** is:\n\n",
    "  $$\\nabla \\cdot \\mathbf{F} = \\frac{\\partial P}{\\partial x} + \\frac{\\partial Q}{\\partial y} + \\frac{\\partial R}{\\partial z}.$$  \n",
    "- **Curl** is:\n\n",
    "  $$\\nabla \\times \\mathbf{F} = \\left\\langle\n",
    "    \\frac{\\partial R}{\\partial y} - \\frac{\\partial Q}{\\partial z},\n",
    "    \\frac{\\partial P}{\\partial z} - \\frac{\\partial R}{\\partial x},\n",
    "    \\frac{\\partial Q}{\\partial x} - \\frac{\\partial P}{\\partial y}\n",
    "  \\right\\rangle.$$"
   ]
  },
  {
   "cell_type": "code",
   "execution_count": null,
   "metadata": {},
   "outputs": [],
   "source": [
    "# Define a sample vector field\n",
    "P = x*y\n",
    "Q = y*z\n",
    "R = z*x\n",
    "F = sp.Matrix([P, Q, R])\n",
    "\n",
    "# Compute divergence\n",
    "div_F = sp.diff(P, x) + sp.diff(Q, y) + sp.diff(R, z)\n",
    "\n",
    "# Compute curl\n",
    "curl_F = sp.Matrix([\n",
    "    sp.diff(R, y) - sp.diff(Q, z),\n",
    "    sp.diff(P, z) - sp.diff(R, x),\n",
    "    sp.diff(Q, x) - sp.diff(P, y)\n",
    "])\n",
    "\n",
    "div_F, curl_F"
   ]
  }
 ],
 "metadata": {
  "kernelspec": {
   "display_name": "Python 3",
   "language": "python",
   "name": "python3"
  },
  "language_info": {
   "name": "python",
   "pygments_lexer": "ipython3"
  }
 },
 "nbformat": 4,
 "nbformat_minor": 1
}
